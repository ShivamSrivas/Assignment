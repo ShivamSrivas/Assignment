{
 "cells": [
  {
   "cell_type": "raw",
   "id": "2b2b2c67",
   "metadata": {},
   "source": [
    "1.What are the two values of the Boolean data type? How do you write them?\n",
    "The two Boolean type of Values are \n",
    "True\n",
    "False\n",
    "We write them in this format\n",
    "True OR IN BINARY 1\n",
    "False OR IN BINARY 0"
   ]
  },
  {
   "cell_type": "raw",
   "id": "d829c8a6",
   "metadata": {},
   "source": [
    "Three types of Boolean Data types\n",
    "And \n",
    "Or\n",
    "Not\n"
   ]
  },
  {
   "cell_type": "raw",
   "id": "30d4f52d",
   "metadata": {},
   "source": [
    "P Q   AND OR NAND\n",
    "T T   T   T   F\n",
    "T F   F   T   T\n",
    "F T   F   T   T\n",
    "F F   F   F   T"
   ]
  },
  {
   "cell_type": "raw",
   "id": "3d94f66f",
   "metadata": {},
   "source": [
    "FALSE\n",
    "FALSE\n",
    "TRUE\n",
    "FALSE \n",
    "FALSE\n",
    "TRUE\n"
   ]
  },
  {
   "cell_type": "raw",
   "id": "780b94e9",
   "metadata": {},
   "source": [
    "THE SIX COMPARISION OPERATOR ARE\n",
    ">= \"GREATER THAN EQUAL TO\"\n",
    "<= \"SMALLER THAN EQUAL TO\"\n",
    "== \"EQUAL TO\"\n",
    "!= \"NOT EQUAL TO\"\n",
    "> \"GREATER THAN\"\n",
    "< \"SMALLER THAN\""
   ]
  },
  {
   "cell_type": "raw",
   "id": "9fecbdec",
   "metadata": {},
   "source": [
    "ASSIGNMENT OPERATOR AND EQUAL TO OPERATOR ARE TWO DEFFERNT OPERATOR\n",
    "WHERE IN NAME SAY ASSIGN SO WE YOU WANT TO ASSIGN THE VALUE THEN YOU CAN USE ASSIGNMENT OPERATOR\n",
    "FOR EX:-\n",
    "VAR=8\n",
    "HERE I AM USING THE \"=\" ASSIGNMENT OPERATOR TO  STORE THE VALUE IN VAR\n",
    "WHERE AS IN EQUAL TO (\"==\") WILL COMPARE TWO VALUES OR TWO VAR IN WHICH THE VALUES IS STORED \n",
    "AND NOW THEN IT WILL RETURN ME THE VALUE OF BOOLEAN TYPE WHICH IS TRUE OR FALSE\n",
    "KEEPING THIS IN MIND THAT TO WHERE I AM COMPARING THE VALUES SHOULD,BE IN THE SAME DATA TYPE\n",
    "FOR EX:-\n",
    "A=1\n",
    "B=2\n",
    "A==B\n",
    "IT WILL RETURN ME FALSE AS IT MEAN THAT B EQUAL TO A"
   ]
  },
  {
   "cell_type": "raw",
   "id": "f675beb1",
   "metadata": {},
   "source": [
    "IF SPAM==10:\n",
    "IF SPAM>5:\n",
    "ELSE:"
   ]
  },
  {
   "cell_type": "code",
   "execution_count": null,
   "id": "21950f0b",
   "metadata": {},
   "outputs": [],
   "source": [
    "spam=int(input(\"Enter the values\"))\n",
    "if(spam==1):\n",
    "    print(\"Hello\")\n",
    "elif(spam==2):\n",
    "    print(\"Howdy\")\n",
    "else:\n",
    "    print(\"Greetings\")\n",
    "    "
   ]
  },
  {
   "cell_type": "raw",
   "id": "35b96915",
   "metadata": {},
   "source": [
    "CTRL+C"
   ]
  },
  {
   "cell_type": "raw",
   "id": "a5af91b6",
   "metadata": {},
   "source": [
    "BREAK DEFINE AS IF YOU USE BREAK ANYWHERE IT WILL DIRECTLY COME OUT FROM CONDITION ONCE IT CALLS\n",
    "FOR EX:\n",
    "a=\"hello\"\n",
    "for i in range(len(a)):\n",
    "    if(a[i]=='l'):\n",
    "        print(i)\n",
    "        break\n",
    "        now in this you will find once it fill find a[i]=='l' it will terminate itself get out of loop\n",
    "        where in continous it just skip the next step and continue from starting of loop    "
   ]
  },
  {
   "cell_type": "raw",
   "id": "2356b221",
   "metadata": {},
   "source": [
    "for i in range(10):\n",
    "    print(i)\n",
    "it will print from 0 to 10 excluding 10 by default it will take lower bond 0 and upper bond 10 but\n",
    "it exclude 10 and every time it take 1 hop and it is also by default\n",
    "\n",
    "for i in range(0,10):\n",
    "    print(i)\n",
    "in this you are giving it lower bond as zero and upper bond as one\n",
    "\n",
    "now in \n",
    "for i in range(0,10,1)\n",
    "here you declaring 0 as lower bond 10 as upper bond and hop as 1"
   ]
  },
  {
   "cell_type": "raw",
   "id": "bc9275ba",
   "metadata": {},
   "source": [
    "for i in range(1,11):\n",
    "    print(i)\n",
    "    \n",
    "i=1\n",
    "while(i!=11):\n",
    "    print(i)\n",
    "    i+=1\n",
    "    \n",
    "    Here i use '11' as question says print all no.from 1 to 10 \n",
    "    "
   ]
  },
  {
   "cell_type": "raw",
   "id": "40416416",
   "metadata": {},
   "source": [
    "import spam.bacon()"
   ]
  },
  {
   "cell_type": "code",
   "execution_count": null,
   "id": "55a76965",
   "metadata": {},
   "outputs": [],
   "source": []
  }
 ],
 "metadata": {
  "kernelspec": {
   "display_name": "Python 3 (ipykernel)",
   "language": "python",
   "name": "python3"
  },
  "language_info": {
   "codemirror_mode": {
    "name": "ipython",
    "version": 3
   },
   "file_extension": ".py",
   "mimetype": "text/x-python",
   "name": "python",
   "nbconvert_exporter": "python",
   "pygments_lexer": "ipython3",
   "version": "3.9.5"
  }
 },
 "nbformat": 4,
 "nbformat_minor": 5
}
