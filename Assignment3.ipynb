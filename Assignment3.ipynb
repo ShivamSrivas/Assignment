{
 "cells": [
  {
   "cell_type": "raw",
   "id": "f568e584",
   "metadata": {},
   "source": [
    "There are mainly Three uses of fun:-\n",
    "1.Code Reusability\n",
    "2.Reduce Cost \n",
    "3.Reduce Complexcity"
   ]
  },
  {
   "cell_type": "raw",
   "id": "7a2e2d53",
   "metadata": {},
   "source": [
    "Function will run when you will call"
   ]
  },
  {
   "cell_type": "raw",
   "id": "7065bf6e",
   "metadata": {},
   "source": [
    "def :-Statement is use to define function\n",
    "<def>--<fun name>(--Parameter--)"
   ]
  },
  {
   "cell_type": "raw",
   "id": "568c1a28",
   "metadata": {},
   "source": [
    "The main differnce between fun and function call\n",
    "Fun is structure define by you with set of instruction\n",
    "for ex:-\n",
    "    def fun(a):\n",
    "        print(\"hello\")\n",
    "    This is simple fun which will print hello when you pass\n",
    "any Arguement as a\n",
    "\n",
    "Function call:\n",
    "    fun(5)\n",
    "    Here my passing the Arguement and calling function\n",
    "    "
   ]
  },
  {
   "cell_type": "raw",
   "id": "976f29b4",
   "metadata": {},
   "source": [
    "Global scope: The names that you define in this scope are available to all your code.\n",
    "\n",
    "Local scope: The names that you define in this scope are only available or visible to the code within the scope.\n",
    "\n",
    "At any given time during execution, you’ll have at most four active Python scopes—local, enclosing, global, and built-in—depending on where you are in the code. On the other hand, you’ll always have at least two active scopes, which are the global and built-in scopes. These two scopes will always be available for you."
   ]
  },
  {
   "cell_type": "raw",
   "id": "cceefef7",
   "metadata": {},
   "source": [
    "After the function call returns all the Vairable in function is destroy"
   ]
  },
  {
   "cell_type": "raw",
   "id": "6ffa55d6",
   "metadata": {},
   "source": [
    "Yes! it is possible to return a value as expression\n",
    "for ex:-\n",
    "    def fun(a):\n",
    "    return 6+1j\n",
    "fun(1)"
   ]
  },
  {
   "cell_type": "raw",
   "id": "faf462ff",
   "metadata": {},
   "source": [
    "If a function doesn't specify a return value, it returns None"
   ]
  },
  {
   "cell_type": "raw",
   "id": "b32df4cc",
   "metadata": {},
   "source": [
    "If you want to refer to a global variable in a function, you can use the global keyword to declare which variables are global.\n",
    "def fun(a):\n",
    "    global b\n",
    "    b=a+1\n",
    "    return b"
   ]
  },
  {
   "cell_type": "raw",
   "id": "bf9767d0",
   "metadata": {},
   "source": [
    "None means Nothing not even zero"
   ]
  },
  {
   "cell_type": "raw",
   "id": "2b1e7064",
   "metadata": {},
   "source": [
    "import areallyourpetsnamederic\n",
    "it will import .py file name as areallyourpetsnamederic"
   ]
  },
  {
   "cell_type": "raw",
   "id": "36d364f9",
   "metadata": {},
   "source": [
    "from spam import bacon"
   ]
  },
  {
   "cell_type": "raw",
   "id": "e037befb",
   "metadata": {},
   "source": [
    "try:\n",
    "    #where you think it will crash\n",
    "except Exception as e:\n",
    "    (\"this is error\",e)\n",
    "else:\n",
    "    print(\"this will run when try block will excuted naturally\")"
   ]
  },
  {
   "cell_type": "raw",
   "id": "c013f208",
   "metadata": {},
   "source": [
    "try:\n",
    "    \"\"\"it will try to excute your program with in this \n",
    "    block and if it get any error then it will throw\n",
    "    exception which will further handle by except block\n",
    "    \"\"\"\n",
    "except:\n",
    "    \"\"\"it will handle the except thrown by try block\"\"\"\n",
    "else:\n",
    "    \"\"\"it will run when try block will execute naturally\"\"\""
   ]
  },
  {
   "cell_type": "code",
   "execution_count": null,
   "id": "65e21ae9",
   "metadata": {},
   "outputs": [],
   "source": []
  }
 ],
 "metadata": {
  "kernelspec": {
   "display_name": "Python 3 (ipykernel)",
   "language": "python",
   "name": "python3"
  },
  "language_info": {
   "codemirror_mode": {
    "name": "ipython",
    "version": 3
   },
   "file_extension": ".py",
   "mimetype": "text/x-python",
   "name": "python",
   "nbconvert_exporter": "python",
   "pygments_lexer": "ipython3",
   "version": "3.9.5"
  }
 },
 "nbformat": 4,
 "nbformat_minor": 5
}
