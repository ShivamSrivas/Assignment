{
 "cells": [
  {
   "cell_type": "code",
   "execution_count": 1,
   "id": "fc3e3aea",
   "metadata": {},
   "outputs": [],
   "source": [
    "years_list=[2000,2001,2002,2003,2004,2005]"
   ]
  },
  {
   "cell_type": "code",
   "execution_count": 2,
   "id": "dac28348",
   "metadata": {},
   "outputs": [
    {
     "data": {
      "text/plain": [
       "2004"
      ]
     },
     "execution_count": 2,
     "metadata": {},
     "output_type": "execute_result"
    }
   ],
   "source": [
    "years_list[4]"
   ]
  },
  {
   "cell_type": "code",
   "execution_count": 3,
   "id": "b3ed173f",
   "metadata": {},
   "outputs": [
    {
     "data": {
      "text/plain": [
       "2005"
      ]
     },
     "execution_count": 3,
     "metadata": {},
     "output_type": "execute_result"
    }
   ],
   "source": [
    "years_list[5]"
   ]
  },
  {
   "cell_type": "code",
   "execution_count": 4,
   "id": "a44df23c",
   "metadata": {},
   "outputs": [],
   "source": [
    "things=[\"mozzarell\",\"cinderella\",\"salmonella\"]"
   ]
  },
  {
   "cell_type": "code",
   "execution_count": 5,
   "id": "ba8bb864",
   "metadata": {},
   "outputs": [
    {
     "data": {
      "text/plain": [
       "['mozzarell', 'cinderella', 'salmonella', 'Cinderella']"
      ]
     },
     "execution_count": 5,
     "metadata": {},
     "output_type": "execute_result"
    }
   ],
   "source": [
    "for i in things:\n",
    "    if i==\"cinderella\":\n",
    "        things.append(str.capitalize(i))\n",
    "things\n",
    "    "
   ]
  },
  {
   "cell_type": "code",
   "execution_count": 6,
   "id": "889ed2f1",
   "metadata": {},
   "outputs": [],
   "source": [
    "surpurise=[\"Groucho\",\"Chico\",\"Harpo\"]"
   ]
  },
  {
   "cell_type": "code",
   "execution_count": 7,
   "id": "c27382e9",
   "metadata": {},
   "outputs": [
    {
     "data": {
      "text/plain": [
       "'Oprah'"
      ]
     },
     "execution_count": 7,
     "metadata": {},
     "output_type": "execute_result"
    }
   ],
   "source": [
    "a=str.lower(surpurise[-1])\n",
    "r=\"\"\n",
    "for i in a[-1::-1]:\n",
    "    r+=i\n",
    "r.capitalize()\n"
   ]
  },
  {
   "cell_type": "code",
   "execution_count": 8,
   "id": "9468bc9c",
   "metadata": {},
   "outputs": [],
   "source": [
    "e2f={\"dog\":\"chien\",\n",
    "     \"cat\":\"chat\",\n",
    "     \"walrus\":\"morse\"\n",
    "    }"
   ]
  },
  {
   "cell_type": "code",
   "execution_count": 52,
   "id": "e95af25c",
   "metadata": {},
   "outputs": [
    {
     "name": "stdout",
     "output_type": "stream",
     "text": [
      "('dog', 'chien')\n",
      "('cat', 'chat')\n",
      "('walrus', 'morse')\n"
     ]
    }
   ],
   "source": [
    "f2e={}\n",
    "for i in e2f.items():\n",
    "    f2e={i[0]:i[1],\n",
    "        }\n",
    "    print(i)\n"
   ]
  },
  {
   "cell_type": "code",
   "execution_count": 54,
   "id": "d0839b8e",
   "metadata": {},
   "outputs": [
    {
     "name": "stdout",
     "output_type": "stream",
     "text": [
      "{'dog', 'cat', 'walrus'}\n"
     ]
    }
   ],
   "source": [
    "print(set(e2f))"
   ]
  },
  {
   "cell_type": "code",
   "execution_count": 56,
   "id": "247a3e78",
   "metadata": {},
   "outputs": [],
   "source": [
    "life={\"animals\":{\"cats\":[\"Henri\",\"Grumpy\",\"Lucy\"],\n",
    "                \"octopi\":\"\",\n",
    "                \"emus\":\"\"},\n",
    "                 \"plants\":\"\",\n",
    "                 \"others\":\"\"}"
   ]
  },
  {
   "cell_type": "code",
   "execution_count": 62,
   "id": "c3c48b7d",
   "metadata": {},
   "outputs": [
    {
     "data": {
      "text/plain": [
       "dict_keys(['animals', 'plants', 'others'])"
      ]
     },
     "execution_count": 62,
     "metadata": {},
     "output_type": "execute_result"
    }
   ],
   "source": [
    "life.keys()"
   ]
  },
  {
   "cell_type": "code",
   "execution_count": 63,
   "id": "0ab94b0d",
   "metadata": {},
   "outputs": [
    {
     "data": {
      "text/plain": [
       "dict_keys(['cats', 'octopi', 'emus'])"
      ]
     },
     "execution_count": 63,
     "metadata": {},
     "output_type": "execute_result"
    }
   ],
   "source": [
    "life[\"animals\"].keys()"
   ]
  },
  {
   "cell_type": "code",
   "execution_count": 69,
   "id": "7b090797",
   "metadata": {},
   "outputs": [
    {
     "name": "stdout",
     "output_type": "stream",
     "text": [
      "Henri\n",
      "Grumpy\n",
      "Lucy\n"
     ]
    }
   ],
   "source": [
    "for i in life[\"animals\"][\"cats\"]:\n",
    "    print(i)"
   ]
  },
  {
   "cell_type": "code",
   "execution_count": null,
   "id": "3971b97c",
   "metadata": {},
   "outputs": [],
   "source": []
  }
 ],
 "metadata": {
  "kernelspec": {
   "display_name": "Python 3 (ipykernel)",
   "language": "python",
   "name": "python3"
  },
  "language_info": {
   "codemirror_mode": {
    "name": "ipython",
    "version": 3
   },
   "file_extension": ".py",
   "mimetype": "text/x-python",
   "name": "python",
   "nbconvert_exporter": "python",
   "pygments_lexer": "ipython3",
   "version": "3.9.7"
  }
 },
 "nbformat": 4,
 "nbformat_minor": 5
}
