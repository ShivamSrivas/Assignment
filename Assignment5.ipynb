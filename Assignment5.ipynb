{
 "cells": [
  {
   "cell_type": "raw",
   "id": "e60b63aa",
   "metadata": {},
   "source": [
    "d={}"
   ]
  },
  {
   "cell_type": "raw",
   "id": "901a73f5",
   "metadata": {},
   "source": [
    "d={\"foo\":42}"
   ]
  },
  {
   "cell_type": "raw",
   "id": "ec9b6811",
   "metadata": {},
   "source": [
    "the main difference between \n",
    "list and dict are is that\n",
    "Concantination \"+\" and Replication \"*\" are not allowed in dict\n",
    "and second is \n",
    "dict contain data in the forms of keys and values \n",
    "where key is nothing but the index\n",
    "where as a list does not contain data like this"
   ]
  },
  {
   "cell_type": "raw",
   "id": "8b38ef6b",
   "metadata": {},
   "source": [
    "spam={'bar': 100}\n",
    "spam['foo']\n",
    "KEY ERROR"
   ]
  },
  {
   "cell_type": "raw",
   "id": "2d675f6e",
   "metadata": {},
   "source": [
    "spam={\"ca\":\"cat\",\"vhfah\":546}\n",
    "\"cat\" in spam and \"cat\" in spam.keys()\n",
    "(\"cat\" in spam) means that there's a cat in keys or in values\n",
    "\"cat\" in spam.keys() means that there is cat word\n",
    "acting as key"
   ]
  },
  {
   "cell_type": "raw",
   "id": "00f131a6",
   "metadata": {},
   "source": [
    "spam={\"ca\":\"cat\",\"vhfah\":546}\n",
    "\"color\" not in spam\n",
    "spam['color']=\"black\"\n"
   ]
  },
  {
   "cell_type": "raw",
   "id": "4c1f8943",
   "metadata": {},
   "source": [
    "spam.keys(\"pretty\")"
   ]
  },
  {
   "cell_type": "code",
   "execution_count": null,
   "id": "aa22f8cd",
   "metadata": {},
   "outputs": [],
   "source": []
  }
 ],
 "metadata": {
  "kernelspec": {
   "display_name": "Python 3 (ipykernel)",
   "language": "python",
   "name": "python3"
  },
  "language_info": {
   "codemirror_mode": {
    "name": "ipython",
    "version": 3
   },
   "file_extension": ".py",
   "mimetype": "text/x-python",
   "name": "python",
   "nbconvert_exporter": "python",
   "pygments_lexer": "ipython3",
   "version": "3.9.5"
  }
 },
 "nbformat": 4,
 "nbformat_minor": 5
}
