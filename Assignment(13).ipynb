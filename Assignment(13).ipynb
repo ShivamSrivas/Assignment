{
 "cells": [
  {
   "cell_type": "markdown",
   "id": "bbde2329",
   "metadata": {},
   "source": [
    "Excel Files are more Compilicated comparing to CSV\n",
    "Excel are consume more memory comparing to CSV"
   ]
  },
  {
   "cell_type": "markdown",
   "id": "f3a4fe66",
   "metadata": {},
   "source": [
    "Return a reader object which will iterate over lines in the given csvfile\n",
    "Return a writer object responsible for converting the user’s data into delimited strings on the given file-like object"
   ]
  },
  {
   "cell_type": "markdown",
   "id": "8927b040",
   "metadata": {},
   "source": [
    "The open function opens a file and returns a file object. The file objects contains methods and attributes which latter can be used to retrieve information or manipulate the file you opened.\n",
    "    Opening a file.\n",
    "    Read or Write operation.\n",
    "    Closing a file.\n",
    "    \"r\" to read\n",
    "    \"w\" to write\n",
    "    \"wb\" to read and write both"
   ]
  },
  {
   "cell_type": "code",
   "execution_count": null,
   "id": "95d11ad0",
   "metadata": {},
   "outputs": [],
   "source": [
    "import csv\n",
    "RESULTS = ['shivam','srivastava','Ramesh','Hello','BBye']\n",
    "result_file = open(\"output.csv\",'wb')\n",
    "wr = csv.writer(result_file, dialect='excel')\n",
    "for item in RESULTS:\n",
    "    wr.writerow(item)"
   ]
  },
  {
   "cell_type": "markdown",
   "id": "7ead1474",
   "metadata": {},
   "source": [
    "The delimiter is the character that appears between cells on a row. By default, for ex is csv Comma is delimeter \n",
    "\n",
    "The line terminator is the character that comes at the end of a row. By default, the line terminator is a newline."
   ]
  },
  {
   "cell_type": "markdown",
   "id": "22f903ed",
   "metadata": {},
   "source": [
    "Dictonary"
   ]
  },
  {
   "cell_type": "code",
   "execution_count": null,
   "id": "43ae729c",
   "metadata": {},
   "outputs": [],
   "source": [
    "Dictonary"
   ]
  },
  {
   "cell_type": "code",
   "execution_count": null,
   "id": "f282ccac",
   "metadata": {},
   "outputs": [],
   "source": []
  },
  {
   "cell_type": "code",
   "execution_count": null,
   "id": "0e288dc1",
   "metadata": {},
   "outputs": [],
   "source": []
  },
  {
   "cell_type": "code",
   "execution_count": null,
   "id": "256769a9",
   "metadata": {},
   "outputs": [],
   "source": []
  },
  {
   "cell_type": "code",
   "execution_count": null,
   "id": "a24bab9a",
   "metadata": {},
   "outputs": [],
   "source": []
  },
  {
   "cell_type": "code",
   "execution_count": null,
   "id": "a8e4e122",
   "metadata": {},
   "outputs": [],
   "source": []
  },
  {
   "cell_type": "code",
   "execution_count": null,
   "id": "39e3671f",
   "metadata": {},
   "outputs": [],
   "source": []
  },
  {
   "cell_type": "code",
   "execution_count": null,
   "id": "d35091c7",
   "metadata": {},
   "outputs": [],
   "source": []
  },
  {
   "cell_type": "code",
   "execution_count": null,
   "id": "a60a26cd",
   "metadata": {},
   "outputs": [],
   "source": []
  },
  {
   "cell_type": "code",
   "execution_count": null,
   "id": "0c1be5e8",
   "metadata": {},
   "outputs": [],
   "source": []
  },
  {
   "cell_type": "code",
   "execution_count": null,
   "id": "c94c8a42",
   "metadata": {},
   "outputs": [],
   "source": []
  },
  {
   "cell_type": "code",
   "execution_count": null,
   "id": "5046cd90",
   "metadata": {},
   "outputs": [],
   "source": []
  },
  {
   "cell_type": "code",
   "execution_count": null,
   "id": "9883ff6a",
   "metadata": {},
   "outputs": [],
   "source": []
  }
 ],
 "metadata": {
  "kernelspec": {
   "display_name": "Python 3 (ipykernel)",
   "language": "python",
   "name": "python3"
  },
  "language_info": {
   "codemirror_mode": {
    "name": "ipython",
    "version": 3
   },
   "file_extension": ".py",
   "mimetype": "text/x-python",
   "name": "python",
   "nbconvert_exporter": "python",
   "pygments_lexer": "ipython3",
   "version": "3.9.7"
  }
 },
 "nbformat": 4,
 "nbformat_minor": 5
}
