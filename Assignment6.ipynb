{
 "cells": [
  {
   "cell_type": "raw",
   "id": "1a702dde",
   "metadata": {},
   "source": [
    "#Single quote escape character\n",
    ">>> print('This is Michael\\'s house')\n",
    "This is Michael's house\n",
    "\n",
    "#Double quote escape character\n",
    ">>> print(\"He told me, \\\"Go home\\\", which I did\")\n",
    "He told me, \"Go home\", which I did\n",
    "\n",
    "#Tab escape character\n",
    ">>> print('\\tThis is good')\n",
    "\tThis is good\n",
    "\n",
    "#newline (line break) escape character\n",
    ">>> print(' Number 1 \\n Number 2 \\n Number 3')\n",
    " Number 1 \n",
    " Number 2 \n",
    " Number 3\n"
   ]
  },
  {
   "cell_type": "raw",
   "id": "20c788b5",
   "metadata": {},
   "source": [
    "#Tab escape character\n",
    ">>> print('\\tThis is good')\n",
    "\tThis is good\n",
    "\n",
    "#newline (line break) escape character\n",
    ">>> print(' Number 1 \\n Number 2 \\n Number 3')\n",
    " Number 1 \n",
    " Number 2 \n",
    " Number 3\n"
   ]
  },
  {
   "cell_type": "raw",
   "id": "9e2ec23b",
   "metadata": {},
   "source": [
    " s = \"\\\\Tasks\";\n",
    "// or \n",
    " s = @\"\\Tasks\";"
   ]
  },
  {
   "cell_type": "raw",
   "id": "ab5f0398",
   "metadata": {},
   "source": [
    "s=\"How|'s moving castle\"\n",
    "Python compiler will treat it as character because\n",
    "they are with in double invert coma "
   ]
  },
  {
   "cell_type": "raw",
   "id": "f00c403b",
   "metadata": {},
   "source": [
    "print(\"Hello\", end = \" \")\n",
    "print(\"This is on the same line\")"
   ]
  },
  {
   "cell_type": "raw",
   "id": "1ec7cc64",
   "metadata": {},
   "source": [
    "1.'e'\n",
    "2.'Hello'\n",
    "3.'Hello'\n",
    "4.'lo'\n",
    "5."
   ]
  },
  {
   "cell_type": "raw",
   "id": "d7c50799",
   "metadata": {},
   "source": [
    "1.'HELLO'\n",
    "2.'True'\n",
    "3.'False'"
   ]
  },
  {
   "cell_type": "raw",
   "id": "b073ce4d",
   "metadata": {},
   "source": [
    "'There-can-only-be-one.'"
   ]
  },
  {
   "cell_type": "raw",
   "id": "a81fb655",
   "metadata": {},
   "source": [
    "a=\"shivam\"\n",
    "a.ljust(45,\" \")\n",
    "a.rjust(41,\" \")\n",
    "a.center(45,\" \")"
   ]
  },
  {
   "cell_type": "raw",
   "id": "5c36db36",
   "metadata": {},
   "source": [
    "s=\" snkjsjhj \"\n",
    "s.strip()"
   ]
  },
  {
   "cell_type": "raw",
   "id": "04fd9183",
   "metadata": {},
   "source": []
  },
  {
   "cell_type": "code",
   "execution_count": null,
   "id": "72e723c8",
   "metadata": {},
   "outputs": [],
   "source": []
  }
 ],
 "metadata": {
  "kernelspec": {
   "display_name": "Python 3 (ipykernel)",
   "language": "python",
   "name": "python3"
  },
  "language_info": {
   "codemirror_mode": {
    "name": "ipython",
    "version": 3
   },
   "file_extension": ".py",
   "mimetype": "text/x-python",
   "name": "python",
   "nbconvert_exporter": "python",
   "pygments_lexer": "ipython3",
   "version": "3.9.5"
  }
 },
 "nbformat": 4,
 "nbformat_minor": 5
}
