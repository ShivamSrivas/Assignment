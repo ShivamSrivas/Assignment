{
 "cells": [
  {
   "cell_type": "raw",
   "id": "5034e243",
   "metadata": {},
   "source": [
    "It's how to define a list\n",
    "for ex:-\n",
    "    l=[]\n",
    "    it means that l is vairable of list type"
   ]
  },
  {
   "cell_type": "raw",
   "id": "dec1dfea",
   "metadata": {},
   "source": [
    "spam=[2,4,6,8,10]\n",
    "These are two ways you can assign values as \"hello\" at index 3 \n",
    "spam.insert(3,\"hello\")\n",
    "spam[3]=\"hello\""
   ]
  },
  {
   "cell_type": "raw",
   "id": "0a126af4",
   "metadata": {},
   "source": [
    "spam=[int(int('3'*2)/11)]\n",
    "spam=[3]"
   ]
  },
  {
   "cell_type": "raw",
   "id": "10a58785",
   "metadata": {},
   "source": [
    "spam[10]"
   ]
  },
  {
   "cell_type": "raw",
   "id": "d65c6b1b",
   "metadata": {},
   "source": [
    "spam=[2,4]"
   ]
  },
  {
   "cell_type": "raw",
   "id": "b80f582d",
   "metadata": {},
   "source": [
    "bacon.index('cat')\n",
    "bacon will have index 1"
   ]
  },
  {
   "cell_type": "raw",
   "id": "d1e3c547",
   "metadata": {},
   "source": [
    "bacon.append(99)\n",
    "will add one values as 99 at last\n",
    "bacon=[3.14,'cat',11,'cat',True,99]"
   ]
  },
  {
   "cell_type": "raw",
   "id": "0733c968",
   "metadata": {},
   "source": [
    "bacon=[3.14,'cat',11,'cat',True,99]\n",
    "bacon.remove('cat')\n",
    "it will remove the first \"cat\" from index as it will find \n",
    "that \"cat\" earlier if you again run the code it will remove \n",
    "the other cat\n",
    "bacon\n",
    "[3.14, 11, 'cat', True, 99]"
   ]
  },
  {
   "cell_type": "raw",
   "id": "f8c7e789",
   "metadata": {},
   "source": [
    "l=[3.14, 11, 'cat', True, 99]\n",
    "l1=[3.14, 11, 'cat', True, 99,11,1]\n",
    "l=l1+l This is \"+\" between two list is concatention which will\n",
    "add all the element in other list\n",
    "l\n",
    "[3.14, 11, 'cat', True, 99, 11, 1, 3.14, 11, 'cat', True, 99]\n",
    "l=l*5 This \"*\" work as replication.it will create copy of values\n",
    "5 time and set it back to list as \"l\""
   ]
  },
  {
   "cell_type": "raw",
   "id": "d467617b",
   "metadata": {},
   "source": [
    "list.append()\n",
    "In this when you pass arguement it will add at last index in the list \n",
    "list.insert()\n",
    "It will take two Arguement one as which index and second when at values\n",
    "and add it to specific index "
   ]
  },
  {
   "cell_type": "raw",
   "id": "03423009",
   "metadata": {},
   "source": [
    "l=[1211,21,2121,2,12,1,2121,2,12,1,2,1]\n",
    "l.remove(1211)\n",
    "Take the value and remove it\n",
    "\n",
    "l.pop(0)\n",
    "Take the index and remove it"
   ]
  },
  {
   "cell_type": "raw",
   "id": "696a527e",
   "metadata": {},
   "source": [
    "String asn list both\n",
    "are iterable object which mean that we can iterate in it and \n",
    "extract values\n",
    "In both of them indexing starts from 0 to n"
   ]
  },
  {
   "cell_type": "raw",
   "id": "f87e1f6d",
   "metadata": {},
   "source": [
    "tu=(21,21,21,2,1)\n",
    "l=[21,21,2,12,12]\n",
    "The main differnce between tup and list is that\n",
    "tup is immutable where as list is a mutable\n",
    "which mean that you cant change tuple once its declared \n",
    "but you can do it in list"
   ]
  },
  {
   "cell_type": "raw",
   "id": "51bc14ae",
   "metadata": {},
   "source": [
    "tup=(42)"
   ]
  },
  {
   "cell_type": "raw",
   "id": "f62ce67d",
   "metadata": {},
   "source": [
    "list(tuple)\n",
    "tuple(list)\n",
    "type casting will make it possible"
   ]
  },
  {
   "cell_type": "raw",
   "id": "784882d8",
   "metadata": {},
   "source": [
    "list can contain\n",
    "string\n",
    "integer\n",
    "char\n",
    "list\n",
    "tuple\n",
    "double \n",
    "float\n"
   ]
  },
  {
   "cell_type": "raw",
   "id": "22edfddc",
   "metadata": {},
   "source": [
    "copy performs shallow copy while deepcopy performs deep copy. copy and deepcopy behave exactly the same if the object you are copying is not a compound object i.e. the object does not contain other objects. One simple of compound object is list"
   ]
  }
 ],
 "metadata": {
  "kernelspec": {
   "display_name": "Python 3 (ipykernel)",
   "language": "python",
   "name": "python3"
  },
  "language_info": {
   "codemirror_mode": {
    "name": "ipython",
    "version": 3
   },
   "file_extension": ".py",
   "mimetype": "text/x-python",
   "name": "python",
   "nbconvert_exporter": "python",
   "pygments_lexer": "ipython3",
   "version": "3.9.5"
  }
 },
 "nbformat": 4,
 "nbformat_minor": 5
}
