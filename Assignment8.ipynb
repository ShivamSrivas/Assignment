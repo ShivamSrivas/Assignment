{
 "cells": [
  {
   "cell_type": "markdown",
   "id": "5fb506ad",
   "metadata": {},
   "source": [
    "1. Is the Python Standard Library included with PyInputPlus?\n",
    "No. PyInputPlus is a third-party module and doesn’t come with the Python Standard Library.\n",
    "\n",
    "2. Why is PyInputPlus commonly imported with import pyinputplus as pypi?\n",
    "This optionally makes your code shorter to type: you can type pyip.inputStr() instead of pyinputplus.inputStr().\n",
    "\n",
    "3. How do you distinguish between inputInt() and inputFloat()?\n",
    "The inputInt() function returns an int value, while the inputFloat() function returns a float value. This is the difference between returning 4 and 4.0.\n",
    "\n",
    "4. Using PyInputPlus, how do you ensure that the user enters a whole number between 0 and 99?\n",
    "Call pyip.inputint(min=0, max=99).\n",
    "\n",
    "5. What is transferred to the keyword arguments allowRegexes and blockRegexes?\n",
    "A list of regex strings that are either explicitly allowed or denied\n",
    "\n",
    "6. If a blank input is entered three times, what does inputStr(limit=3) do?\n",
    "A list of regex strings that are either explicitly allowed or denied\n",
    "\n",
    "7. If blank input is entered three times, what does inputStr(limit=3, default='hello') do?\n",
    "The function returns the value 'hello'."
   ]
  }
 ],
 "metadata": {
  "kernelspec": {
   "display_name": "Python 3 (ipykernel)",
   "language": "python",
   "name": "python3"
  },
  "language_info": {
   "codemirror_mode": {
    "name": "ipython",
    "version": 3
   },
   "file_extension": ".py",
   "mimetype": "text/x-python",
   "name": "python",
   "nbconvert_exporter": "python",
   "pygments_lexer": "ipython3",
   "version": "3.9.7"
  }
 },
 "nbformat": 4,
 "nbformat_minor": 5
}
