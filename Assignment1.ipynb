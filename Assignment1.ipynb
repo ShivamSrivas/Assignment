{
 "cells": [
  {
   "cell_type": "raw",
   "id": "99251bd9",
   "metadata": {},
   "source": [
    "*,-,/,+ is mathmatical operator\n",
    "'hello' is a string\n",
    "-87.6 is a float\n",
    "6 is integer"
   ]
  },
  {
   "cell_type": "raw",
   "id": "09a052f3",
   "metadata": {},
   "source": [
    "The differnce between String and Integer is that where String is refernce type at same integer is a value \n",
    "type\n",
    "String are stored in continous manner in stack where integer is stored a value in it in stack\n",
    "String are can't be changed once declare but integer does\n",
    "They both are data type\n",
    "String is class hence to access a string you have create refernce where integer as structure type\n",
    "from example:\n",
    "    s=\"hello\" String\n",
    "    s=1 Integer"
   ]
  },
  {
   "cell_type": "raw",
   "id": "f4bb3100",
   "metadata": {},
   "source": [
    "There are many data type few of them are \n",
    "String=\"Hello\" it hold char in a continous manner in stack\n",
    "Integer=1 it hold the values\n",
    "Char='a'it only hold one Alphabet in it"
   ]
  },
  {
   "cell_type": "raw",
   "id": "39978489",
   "metadata": {},
   "source": [
    "expression is made up of operand and operator \n",
    "they can do many things such as evaluating things and returning some values and sometime boolean type \n",
    "for ex:\n",
    "    1+2=3 this is an simpliest example of expression\n",
    "    in this upper case 1,2 is operand and \"+\" is operator which is performing Addition operation and \n",
    "    retuning a value 3 as output \n",
    "    "
   ]
  },
  {
   "cell_type": "raw",
   "id": "f8dff332",
   "metadata": {},
   "source": [
    "spam=10\n",
    "means that there is vairable called spam in which you are assign the value 10 which is integer\n",
    "asign operator are used to store a value in vairable \n",
    "The main differne between expression and the assignment operator is you dont need operand in the\n",
    "assignment where as assignment statement line just store values in expression it evaluate and produce output\n",
    "\n"
   ]
  },
  {
   "cell_type": "raw",
   "id": "b8893540",
   "metadata": {},
   "source": [
    "bacon=22\n",
    "bacon+1\n",
    "bacon will be 22 only\n"
   ]
  },
  {
   "cell_type": "raw",
   "id": "32993c52",
   "metadata": {},
   "source": [
    "\"sapm\"+\"sapmsapm\"=spamspamspam it is concatenate\n",
    "\"spam*3=spamspamspam it is multiplication operation"
   ]
  },
  {
   "cell_type": "raw",
   "id": "1c63619d",
   "metadata": {},
   "source": [
    "egg is valid vairable name where as 100 is not\n",
    "because there is some pre-define protocol which we have to follow same in which one is\n",
    "A vairable name should not starts from digits"
   ]
  },
  {
   "cell_type": "raw",
   "id": "8f6cd942",
   "metadata": {},
   "source": [
    "int()\n",
    "float()\n",
    "str()\n",
    "Are the function"
   ]
  },
  {
   "cell_type": "raw",
   "id": "f2e78f26",
   "metadata": {},
   "source": [
    "\"i have eaten\"+\"99\"+burritos"
   ]
  }
 ],
 "metadata": {
  "kernelspec": {
   "display_name": "Python 3 (ipykernel)",
   "language": "python",
   "name": "python3"
  },
  "language_info": {
   "codemirror_mode": {
    "name": "ipython",
    "version": 3
   },
   "file_extension": ".py",
   "mimetype": "text/x-python",
   "name": "python",
   "nbconvert_exporter": "python",
   "pygments_lexer": "ipython3",
   "version": "3.9.5"
  }
 },
 "nbformat": 4,
 "nbformat_minor": 5
}
