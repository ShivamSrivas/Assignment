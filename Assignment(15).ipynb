{
 "cells": [
  {
   "cell_type": "markdown",
   "id": "930c59a3",
   "metadata": {},
   "source": [
    "Assign the result from the previous task (seconds in an hour) to a variable called seconds_per_hour.\n",
    "How many seconds are in a day? Use your seconds_per_hour variable.\n",
    "Calculate seconds per day again, but this time save the result in a variable called seconds_per_day. \n",
    "Divide seconds_per_day by seconds_per_hour. Use floating-point (/) division.\n",
    "Divide seconds_per_day by seconds_per_hour, using integer (//) division. Did\n",
    "this number agree with the floating-point value from the previous question, aside from the final .0?\n",
    "Create a list called years_list, starting with the year of your birth, and each year thereafter until the year of your fifth birthday. For example, if you were born in 1980 the list would be years_list = [1980, 1981, 1982, 1983, 1984, 1985].\n",
    "In which year in years_list was your third birthday? Remember, you were 0 years of age for your first year.\n",
    "In which year in years_list were you the oldest?"
   ]
  },
  {
   "cell_type": "markdown",
   "id": "6637d70c",
   "metadata": {},
   "source": [
    "seconds_per_hour=3600"
   ]
  },
  {
   "cell_type": "markdown",
   "id": "dc812135",
   "metadata": {},
   "source": [
    "86400"
   ]
  },
  {
   "cell_type": "code",
   "execution_count": null,
   "id": "2f04b8ed",
   "metadata": {},
   "outputs": [],
   "source": [
    "seconds_per_day=60*60*24"
   ]
  },
  {
   "cell_type": "code",
   "execution_count": 1,
   "id": "f329ada4",
   "metadata": {},
   "outputs": [],
   "source": [
    "f=86400\n",
    "f1=3600\n",
    "c=f/f1"
   ]
  },
  {
   "cell_type": "code",
   "execution_count": 3,
   "id": "45bddebd",
   "metadata": {},
   "outputs": [],
   "source": [
    "f=86400\n",
    "f1=3600\n",
    "c=f//f1"
   ]
  },
  {
   "cell_type": "markdown",
   "id": "af3207ff",
   "metadata": {},
   "source": [
    "generator are function through which we iterate"
   ]
  },
  {
   "cell_type": "code",
   "execution_count": null,
   "id": "b43ea363",
   "metadata": {},
   "outputs": [],
   "source": []
  },
  {
   "cell_type": "code",
   "execution_count": null,
   "id": "4340eb57",
   "metadata": {},
   "outputs": [],
   "source": []
  },
  {
   "cell_type": "code",
   "execution_count": null,
   "id": "c7898b90",
   "metadata": {},
   "outputs": [],
   "source": []
  }
 ],
 "metadata": {
  "kernelspec": {
   "display_name": "Python 3 (ipykernel)",
   "language": "python",
   "name": "python3"
  },
  "language_info": {
   "codemirror_mode": {
    "name": "ipython",
    "version": 3
   },
   "file_extension": ".py",
   "mimetype": "text/x-python",
   "name": "python",
   "nbconvert_exporter": "python",
   "pygments_lexer": "ipython3",
   "version": "3.9.7"
  }
 },
 "nbformat": 4,
 "nbformat_minor": 5
}
